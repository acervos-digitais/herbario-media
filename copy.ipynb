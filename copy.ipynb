{
 "cells": [
  {
   "cell_type": "code",
   "execution_count": null,
   "metadata": {},
   "outputs": [],
   "source": [
    "from os import path, listdir\n",
    "from shutil import copy2 as cp\n",
    "\n",
    "SRC_DIR = \"../../imgs/arts\"\n",
    "DST_DIR = \"./imgs/arts\"\n",
    "\n",
    "SIZES = [\"500\", \"900\"]\n",
    "\n",
    "for s in SIZES:\n",
    "  src_dir = f\"{SRC_DIR}/{s}\"\n",
    "  dst_dir = f\"{DST_DIR}/{s}\"\n",
    "  src_files = sorted([f for f in listdir(src_dir) if f.endswith(\".jpg\")])\n",
    "  to_copy = [f for f in src_files if not path.isfile(f\"{dst_dir}/{f}\")]\n",
    "\n",
    "  for f in to_copy:\n",
    "    src_path = f\"{src_dir}/{f}\"\n",
    "    dst_path = f\"{dst_dir}/{f}\"\n",
    "    cp(src_path, dst_path)"
   ]
  }
 ],
 "metadata": {
  "kernelspec": {
   "display_name": "ml",
   "language": "python",
   "name": "python3"
  },
  "language_info": {
   "codemirror_mode": {
    "name": "ipython",
    "version": 3
   },
   "file_extension": ".py",
   "mimetype": "text/x-python",
   "name": "python",
   "nbconvert_exporter": "python",
   "pygments_lexer": "ipython3",
   "version": "3.11.11"
  }
 },
 "nbformat": 4,
 "nbformat_minor": 2
}
